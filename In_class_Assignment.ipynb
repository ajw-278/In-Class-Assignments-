{
  "nbformat": 4,
  "nbformat_minor": 0,
  "metadata": {
    "colab": {
      "provenance": [],
      "authorship_tag": "ABX9TyPnAxyidpBiwf7FFD0Rllyp",
      "include_colab_link": true
    },
    "kernelspec": {
      "name": "python3",
      "display_name": "Python 3"
    },
    "language_info": {
      "name": "python"
    }
  },
  "cells": [
    {
      "cell_type": "markdown",
      "metadata": {
        "id": "view-in-github",
        "colab_type": "text"
      },
      "source": [
        "<a href=\"https://colab.research.google.com/github/ajw-278/In-Class-Assignments-/blob/main/In_class_Assignment.ipynb\" target=\"_parent\"><img src=\"https://colab.research.google.com/assets/colab-badge.svg\" alt=\"Open In Colab\"/></a>"
      ]
    },
    {
      "cell_type": "code",
      "execution_count": null,
      "metadata": {
        "id": "LRgz8w6_Z5P8"
      },
      "outputs": [],
      "source": []
    },
    {
      "cell_type": "markdown",
      "source": [
        "Write a program that takes two inputs: value of pi, height and radius. Program needs to calculate the surface area of a cylinder and display the result. You can use function print, but want to use function input for the inputs."
      ],
      "metadata": {
        "id": "Kx13T06kZ-fi"
      }
    },
    {
      "cell_type": "code",
      "source": [
        "pi=3.14\n",
        "pi=3.14\n",
        "r=4\n",
        "height=10\n",
        "surface_area=2*pi*r**2+2*pi*r*height\n",
        "print('Surface Area=',surface_area)"
      ],
      "metadata": {
        "colab": {
          "base_uri": "https://localhost:8080/"
        },
        "id": "dFg8vv_zacnz",
        "outputId": "debf582a-b926-4d58-8a53-34f86346dced"
      },
      "execution_count": null,
      "outputs": [
        {
          "output_type": "stream",
          "name": "stdout",
          "text": [
            "Surface Area= 351.68\n"
          ]
        }
      ]
    },
    {
      "cell_type": "code",
      "source": [
        "pi=input('Please provide value of pi')\n",
        "radius=input('Please provide value of radius')\n",
        "height=input('Please provide value of height')\n",
        "surface_area=float(pi)\n",
        "surface_area=int(radius)\n",
        "surface_area=int(height)\n",
        "surface_area=2*pi*radius**2+2*pi*radius*height\n",
        "print(surface_area)"
      ],
      "metadata": {
        "colab": {
          "base_uri": "https://localhost:8080/",
          "height": 241
        },
        "id": "tjjCmf9WbSQt",
        "outputId": "2b5fa039-344a-497c-cb5c-dd4193dc122d"
      },
      "execution_count": null,
      "outputs": [
        {
          "name": "stdout",
          "output_type": "stream",
          "text": [
            "Please provide value of pi3.14\n",
            "Please provide value of radius4\n",
            "Please provide value of height10\n"
          ]
        },
        {
          "output_type": "error",
          "ename": "TypeError",
          "evalue": "unsupported operand type(s) for ** or pow(): 'str' and 'int'",
          "traceback": [
            "\u001b[0;31m---------------------------------------------------------------------------\u001b[0m",
            "\u001b[0;31mTypeError\u001b[0m                                 Traceback (most recent call last)",
            "\u001b[0;32m<ipython-input-11-7bba3e9fc6d8>\u001b[0m in \u001b[0;36m<cell line: 0>\u001b[0;34m()\u001b[0m\n\u001b[1;32m      5\u001b[0m \u001b[0msurface_area\u001b[0m\u001b[0;34m=\u001b[0m\u001b[0mint\u001b[0m\u001b[0;34m(\u001b[0m\u001b[0mradius\u001b[0m\u001b[0;34m)\u001b[0m\u001b[0;34m\u001b[0m\u001b[0;34m\u001b[0m\u001b[0m\n\u001b[1;32m      6\u001b[0m \u001b[0msurface_area\u001b[0m\u001b[0;34m=\u001b[0m\u001b[0mint\u001b[0m\u001b[0;34m(\u001b[0m\u001b[0mheight\u001b[0m\u001b[0;34m)\u001b[0m\u001b[0;34m\u001b[0m\u001b[0;34m\u001b[0m\u001b[0m\n\u001b[0;32m----> 7\u001b[0;31m \u001b[0msurface_area\u001b[0m\u001b[0;34m=\u001b[0m\u001b[0;36m2\u001b[0m\u001b[0;34m*\u001b[0m\u001b[0mpi\u001b[0m\u001b[0;34m*\u001b[0m\u001b[0mradius\u001b[0m\u001b[0;34m**\u001b[0m\u001b[0;36m2\u001b[0m\u001b[0;34m+\u001b[0m\u001b[0;36m2\u001b[0m\u001b[0;34m*\u001b[0m\u001b[0mpi\u001b[0m\u001b[0;34m*\u001b[0m\u001b[0mradius\u001b[0m\u001b[0;34m*\u001b[0m\u001b[0mheight\u001b[0m\u001b[0;34m\u001b[0m\u001b[0;34m\u001b[0m\u001b[0m\n\u001b[0m\u001b[1;32m      8\u001b[0m \u001b[0mprint\u001b[0m\u001b[0;34m(\u001b[0m\u001b[0msurface_area\u001b[0m\u001b[0;34m)\u001b[0m\u001b[0;34m\u001b[0m\u001b[0;34m\u001b[0m\u001b[0m\n",
            "\u001b[0;31mTypeError\u001b[0m: unsupported operand type(s) for ** or pow(): 'str' and 'int'"
          ]
        }
      ]
    },
    {
      "cell_type": "markdown",
      "source": [
        "Correct Answer:"
      ],
      "metadata": {
        "id": "FG4JiNrvcUWx"
      }
    },
    {
      "cell_type": "code",
      "source": [
        "pi=3.14\n",
        "radius=float(input('Please provide value of radius'))\n",
        "height=float(input('Please provide value of height'))\n",
        "surface_area=2*pi*radius**2+2*pi*radius*height\n",
        "print(f'Area of cylinder = {surface_area}sq.ft')\n",
        "\n"
      ],
      "metadata": {
        "colab": {
          "base_uri": "https://localhost:8080/"
        },
        "id": "jaX3fxkBcd63",
        "outputId": "b0733a51-053e-43da-e650-f69810f73b48"
      },
      "execution_count": null,
      "outputs": [
        {
          "output_type": "stream",
          "name": "stdout",
          "text": [
            "Please provide value of radius5\n",
            "Please provide value of height10\n",
            "Area of cylinder = 471.0sq.ft\n"
          ]
        }
      ]
    },
    {
      "cell_type": "markdown",
      "source": [
        "^ Need to put float around the input because 3.14 is a float number\n"
      ],
      "metadata": {
        "id": "IroiIndpd-Xp"
      }
    },
    {
      "cell_type": "markdown",
      "source": [
        "In-Class Assignment 1/31\n"
      ],
      "metadata": {
        "id": "a-_CG0bpb1lp"
      }
    },
    {
      "cell_type": "markdown",
      "source": [
        "Design a calculator"
      ],
      "metadata": {
        "id": "FNA7Cg9rb5BK"
      }
    },
    {
      "cell_type": "code",
      "source": [
        "number=float(input('Please provide a number'))\n",
        "function=input('Please provide a function')\n",
        "number2=float(input('Please provide a second number'))\n",
        "if function=='+':\n",
        "    print(number+number2)\n",
        "elif function=='-':\n",
        "    print(number-number2)\n",
        "elif function=='*':\n",
        "    print(number*number2)\n",
        "elif function=='/':\n",
        "    print(number/number2)\n",
        "elif function=='//':\n",
        "    print(number//number2)\n",
        "elif function=='%':\n",
        "    print(number%number2)\n",
        "elif function=='**':\n",
        "    print(number**number2)\n",
        "else:\n",
        "    print('Invalid Function')"
      ],
      "metadata": {
        "colab": {
          "base_uri": "https://localhost:8080/"
        },
        "id": "Q-OG91FfcLax",
        "outputId": "ecdf3ec0-81ca-46ff-8345-56e9a395f814"
      },
      "execution_count": null,
      "outputs": [
        {
          "output_type": "stream",
          "name": "stdout",
          "text": [
            "Please provide a number3\n",
            "Please provide a function*\n",
            "Please provide a second number3\n",
            "9.0\n"
          ]
        }
      ]
    },
    {
      "cell_type": "markdown",
      "source": [
        "A parking garage charges 5 plus 2.50 for each hour parked. The minimum fee is 10 and the maximum fee is 20. Write a program that generates a table with hours parked and the corresponding fee, from 1 to 8 hours."
      ],
      "metadata": {
        "id": "_oa3W3hqJV6p"
      }
    },
    {
      "cell_type": "code",
      "source": [
        "\n",
        "for number in range(10,20,1):\n",
        "  input('Please provide a number')\n",
        "    if number == 1:\n",
        "      print(10.00)\n",
        "    elif number == 2:\n",
        "      print(10.00)\n",
        "    elif number == 3:\n",
        "      print(12.5)\n",
        "    elif number == 4:\n",
        "      print(15.00)\n",
        "    elif number == 5:\n",
        "      print(17.50)\n",
        "    elif number == 6:\n",
        "      print(20.00)\n",
        "    elif number == 7:\n",
        "      print(20.00)\n",
        "    elif number == 8:\n",
        "      print(20.00)\n"
      ],
      "metadata": {
        "colab": {
          "base_uri": "https://localhost:8080/",
          "height": 105
        },
        "id": "RRBvorohJk-b",
        "outputId": "7583d19e-58f9-4874-ce96-9d6bff79a141"
      },
      "execution_count": 6,
      "outputs": [
        {
          "output_type": "error",
          "ename": "IndentationError",
          "evalue": "unexpected indent (<ipython-input-6-14af76a5bb65>, line 3)",
          "traceback": [
            "\u001b[0;36m  File \u001b[0;32m\"<ipython-input-6-14af76a5bb65>\"\u001b[0;36m, line \u001b[0;32m3\u001b[0m\n\u001b[0;31m    if number == 1:\u001b[0m\n\u001b[0m    ^\u001b[0m\n\u001b[0;31mIndentationError\u001b[0m\u001b[0;31m:\u001b[0m unexpected indent\n"
          ]
        }
      ]
    },
    {
      "cell_type": "markdown",
      "source": [
        "Correct answer to this problem:"
      ],
      "metadata": {
        "id": "tnxtFM2PMlYg"
      }
    },
    {
      "cell_type": "code",
      "source": [
        "for numberHours in range (1,9,1):\n",
        "  fee=5+2.5*numberHours\n",
        "  if fee<=10:\n",
        "    fee=10\n",
        "  elif fee>=20:\n",
        "    fee=20\n",
        "  print(numberHours,fee)"
      ],
      "metadata": {
        "colab": {
          "base_uri": "https://localhost:8080/"
        },
        "id": "E7fvpoGIMn8N",
        "outputId": "2be458c5-93f0-488f-b0e1-0eb1575c7dd0"
      },
      "execution_count": 10,
      "outputs": [
        {
          "output_type": "stream",
          "name": "stdout",
          "text": [
            "1 10\n",
            "2 10\n",
            "3 12.5\n",
            "4 15.0\n",
            "5 17.5\n",
            "6 20\n",
            "7 20\n",
            "8 20\n"
          ]
        }
      ]
    },
    {
      "cell_type": "markdown",
      "source": [
        "Movie theater problem: manager is deciding how much to spend on advertising for an upcoming movie. Without advertising, 20 people are expected to attend. Additional people may attend based on advertising spending, estimated to be:\n",
        "additional attendees = 2x round (advertising dollars (squareroot)\n",
        "in addition to advertising, there are fixed costs to run the theater of $200.\n",
        "Write a program to generate a table for different advertising amounts and profits"
      ],
      "metadata": {
        "id": "NCk5vGR-N5bd"
      }
    },
    {
      "cell_type": "code",
      "source": [
        "\n",
        "for advertising in range(0,201,25):\n",
        "  additional=2*round(advertising**0.5)\n",
        "  profit=(20+ additional)*10-200-advertising\n",
        "  print(advertising,profit)\n"
      ],
      "metadata": {
        "colab": {
          "base_uri": "https://localhost:8080/"
        },
        "id": "nGE6WbbuN5IP",
        "outputId": "505c851d-ee1b-4216-8af8-79db491fcecf"
      },
      "execution_count": 40,
      "outputs": [
        {
          "output_type": "stream",
          "name": "stdout",
          "text": [
            "0 0\n",
            "25 75\n",
            "50 90\n",
            "75 105\n",
            "100 100\n",
            "125 95\n",
            "150 90\n",
            "175 85\n",
            "200 80\n"
          ]
        }
      ]
    },
    {
      "cell_type": "code",
      "source": [],
      "metadata": {
        "id": "68no8J8YN48O"
      },
      "execution_count": null,
      "outputs": []
    }
  ]
}