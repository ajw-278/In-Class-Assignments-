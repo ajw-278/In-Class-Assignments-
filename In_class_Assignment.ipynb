{
  "nbformat": 4,
  "nbformat_minor": 0,
  "metadata": {
    "colab": {
      "provenance": [],
      "authorship_tag": "ABX9TyPTLHzcdhdq7FaW/y+z6DuW",
      "include_colab_link": true
    },
    "kernelspec": {
      "name": "python3",
      "display_name": "Python 3"
    },
    "language_info": {
      "name": "python"
    }
  },
  "cells": [
    {
      "cell_type": "markdown",
      "metadata": {
        "id": "view-in-github",
        "colab_type": "text"
      },
      "source": [
        "<a href=\"https://colab.research.google.com/github/ajw-278/In-Class-Assignments-/blob/main/In_class_Assignment.ipynb\" target=\"_parent\"><img src=\"https://colab.research.google.com/assets/colab-badge.svg\" alt=\"Open In Colab\"/></a>"
      ]
    },
    {
      "cell_type": "code",
      "execution_count": null,
      "metadata": {
        "id": "LRgz8w6_Z5P8"
      },
      "outputs": [],
      "source": []
    },
    {
      "cell_type": "markdown",
      "source": [
        "Write a program that takes two inputs: value of pi, height and radius. Program needs to calculate the surface area of a cylinder and display the result. You can use function print, but want to use function input for the inputs."
      ],
      "metadata": {
        "id": "Kx13T06kZ-fi"
      }
    },
    {
      "cell_type": "code",
      "source": [
        "pi=3.14\n",
        "pi=3.14\n",
        "r=4\n",
        "height=10\n",
        "surface_area=2*pi*r**2+2*pi*r*height\n",
        "print('Surface Area=',surface_area)"
      ],
      "metadata": {
        "colab": {
          "base_uri": "https://localhost:8080/"
        },
        "id": "dFg8vv_zacnz",
        "outputId": "debf582a-b926-4d58-8a53-34f86346dced"
      },
      "execution_count": null,
      "outputs": [
        {
          "output_type": "stream",
          "name": "stdout",
          "text": [
            "Surface Area= 351.68\n"
          ]
        }
      ]
    },
    {
      "cell_type": "markdown",
      "source": [
        "Correct Answer:"
      ],
      "metadata": {
        "id": "FG4JiNrvcUWx"
      }
    },
    {
      "cell_type": "code",
      "source": [
        "pi=3.14\n",
        "radius=float(input('Please provide value of radius'))\n",
        "height=float(input('Please provide value of height'))\n",
        "surface_area=2*pi*radius**2+2*pi*radius*height\n",
        "print(f'Area of cylinder = {surface_area}sq.ft')\n",
        "\n"
      ],
      "metadata": {
        "colab": {
          "base_uri": "https://localhost:8080/"
        },
        "id": "jaX3fxkBcd63",
        "outputId": "b0733a51-053e-43da-e650-f69810f73b48"
      },
      "execution_count": null,
      "outputs": [
        {
          "output_type": "stream",
          "name": "stdout",
          "text": [
            "Please provide value of radius5\n",
            "Please provide value of height10\n",
            "Area of cylinder = 471.0sq.ft\n"
          ]
        }
      ]
    },
    {
      "cell_type": "markdown",
      "source": [
        "^ Need to put float around the input because 3.14 is a float number\n"
      ],
      "metadata": {
        "id": "IroiIndpd-Xp"
      }
    },
    {
      "cell_type": "markdown",
      "source": [
        "In-Class Assignment 1/31\n"
      ],
      "metadata": {
        "id": "a-_CG0bpb1lp"
      }
    },
    {
      "cell_type": "markdown",
      "source": [
        "Design a calculator"
      ],
      "metadata": {
        "id": "FNA7Cg9rb5BK"
      }
    },
    {
      "cell_type": "code",
      "source": [
        "number=float(input('Please provide a number'))\n",
        "function=input('Please provide a function')\n",
        "number2=float(input('Please provide a second number'))\n",
        "if function=='+':\n",
        "    print(number+number2)\n",
        "elif function=='-':\n",
        "    print(number-number2)\n",
        "elif function=='*':\n",
        "    print(number*number2)\n",
        "elif function=='/':\n",
        "    print(number/number2)\n",
        "elif function=='//':\n",
        "    print(number//number2)\n",
        "elif function=='%':\n",
        "    print(number%number2)\n",
        "elif function=='**':\n",
        "    print(number**number2)\n",
        "else:\n",
        "    print('Invalid Function')"
      ],
      "metadata": {
        "colab": {
          "base_uri": "https://localhost:8080/"
        },
        "id": "Q-OG91FfcLax",
        "outputId": "ecdf3ec0-81ca-46ff-8345-56e9a395f814"
      },
      "execution_count": null,
      "outputs": [
        {
          "output_type": "stream",
          "name": "stdout",
          "text": [
            "Please provide a number3\n",
            "Please provide a function*\n",
            "Please provide a second number3\n",
            "9.0\n"
          ]
        }
      ]
    },
    {
      "cell_type": "markdown",
      "source": [
        "A parking garage charges 5 plus 2.50 for each hour parked. The minimum fee is 10 and the maximum fee is 20. Write a program that generates a table with hours parked and the corresponding fee, from 1 to 8 hours."
      ],
      "metadata": {
        "id": "_oa3W3hqJV6p"
      }
    },
    {
      "cell_type": "markdown",
      "source": [
        "Correct answer to this problem:"
      ],
      "metadata": {
        "id": "tnxtFM2PMlYg"
      }
    },
    {
      "cell_type": "code",
      "source": [
        "for numberHours in range (1,9,1):\n",
        "  fee=5+2.5*numberHours\n",
        "  if fee<=10:\n",
        "    fee=10\n",
        "  elif fee>=20:\n",
        "    fee=20\n",
        "  print(numberHours,fee)"
      ],
      "metadata": {
        "colab": {
          "base_uri": "https://localhost:8080/"
        },
        "id": "E7fvpoGIMn8N",
        "outputId": "2be458c5-93f0-488f-b0e1-0eb1575c7dd0"
      },
      "execution_count": null,
      "outputs": [
        {
          "output_type": "stream",
          "name": "stdout",
          "text": [
            "1 10\n",
            "2 10\n",
            "3 12.5\n",
            "4 15.0\n",
            "5 17.5\n",
            "6 20\n",
            "7 20\n",
            "8 20\n"
          ]
        }
      ]
    },
    {
      "cell_type": "markdown",
      "source": [
        "Movie theater problem: manager is deciding how much to spend on advertising for an upcoming movie. Without advertising, 20 people are expected to attend. Additional people may attend based on advertising spending, estimated to be:\n",
        "additional attendees = 2x round (advertising dollars (squareroot)\n",
        "in addition to advertising, there are fixed costs to run the theater of $200.\n",
        "Write a program to generate a table for different advertising amounts and profits"
      ],
      "metadata": {
        "id": "NCk5vGR-N5bd"
      }
    },
    {
      "cell_type": "code",
      "source": [
        "\n",
        "for advertising in range(0,201,25):\n",
        "  additional=2*round(advertising**0.5)\n",
        "  profit=(20+ additional)*10-200-advertising\n",
        "  print(advertising,profit)\n"
      ],
      "metadata": {
        "colab": {
          "base_uri": "https://localhost:8080/"
        },
        "id": "nGE6WbbuN5IP",
        "outputId": "505c851d-ee1b-4216-8af8-79db491fcecf"
      },
      "execution_count": null,
      "outputs": [
        {
          "output_type": "stream",
          "name": "stdout",
          "text": [
            "0 0\n",
            "25 75\n",
            "50 90\n",
            "75 105\n",
            "100 100\n",
            "125 95\n",
            "150 90\n",
            "175 85\n",
            "200 80\n"
          ]
        }
      ]
    },
    {
      "cell_type": "markdown",
      "source": [
        "Rock Paper Scissors Game: write a program that includes two players playing the game. Each player's choice is giving from the keyboard. The game repeats until the user decides to stop."
      ],
      "metadata": {
        "id": "T7Wxyl5H4hKs"
      }
    },
    {
      "cell_type": "markdown",
      "source": [
        "Correct answer to the Rock/Paper/ Scissors Game:"
      ],
      "metadata": {
        "id": "5Bi2Kk5G9mts"
      }
    },
    {
      "cell_type": "code",
      "source": [
        "play = input(\"Do you want to play a game(yes/no)?\")\n",
        "while play == \"yes\":\n",
        "  p1 = input('Player 1- Choose between rock/paper/scissors: ')\n",
        "  p2 = input('Player 2- Choose between rock/paper/scissors: ')\n",
        "  if p1 == p2:\n",
        "    print('Draw')\n",
        "  elif p1 == 'rock' and p2 == 'scissors':\n",
        "    print('Player 1 wins!')\n",
        "  elif p1 == 'scissors' and p2== 'paper':\n",
        "    print('Player 1 Wins!')\n",
        "  elif p1 == 'paper' and p2 == 'rock':\n",
        "    print('Player 1 wins!')\n",
        "  else:\n",
        "    print('Player 2 wins!')\n",
        "\n",
        "  play = input(\"Do you want to play a game (yes/no)?\")\n",
        "print('Good day!')"
      ],
      "metadata": {
        "colab": {
          "base_uri": "https://localhost:8080/"
        },
        "id": "KB5Eywss9mii",
        "outputId": "fd94a471-846a-4371-bdd1-886fdbd738ad"
      },
      "execution_count": null,
      "outputs": [
        {
          "output_type": "stream",
          "name": "stdout",
          "text": [
            "Do you want to play a game(yes/no)?yes\n",
            "Player 1- Choose between rock/paper/scissors: rock\n",
            "Player 2- Choose between rock/paper/scissors: paper\n",
            "Player 2 wins!\n",
            "Do you want to play a game (yes/no)?no\n",
            "Good day!\n"
          ]
        }
      ]
    },
    {
      "cell_type": "markdown",
      "source": [
        "or another version to make it more concise:\n",
        "import random is extra material"
      ],
      "metadata": {
        "id": "jD98rZkLAyHm"
      }
    },
    {
      "cell_type": "code",
      "source": [
        "import random\n",
        "\n",
        "play = input(\"Do you want to play a game(yes/no)?\")\n",
        "while play == \"yes\":\n",
        "  p1 = input('Player 1- Choose between rock/paper/scissors: ')\n",
        "  p2 = random.choice(['rock','paper', 'scissors'])\n",
        "  if p1 == p2:\n",
        "    print('Draw')\n",
        "  elif ((p1 == 'rock' and p2 == 'scissors') or\n",
        "   (p1 == 'scissors' and p2== 'paper')\n",
        "   or(p1 == 'paper' and p2 == 'rock')):\n",
        "    print('Player 1 wins!')\n",
        "  else:\n",
        "    print('Player 2 wins!')\n",
        "\n",
        "  play = input(\"Do you want to play a game (yes/no)?\")\n",
        "print('Good day!')"
      ],
      "metadata": {
        "colab": {
          "base_uri": "https://localhost:8080/"
        },
        "id": "FDTTfhCtA0Py",
        "outputId": "e85c2125-286c-4b8f-dd87-8fee8d2758d0"
      },
      "execution_count": null,
      "outputs": [
        {
          "output_type": "stream",
          "name": "stdout",
          "text": [
            "Do you want to play a game(yes/no)?yes\n",
            "Player 1- Choose between rock/paper/scissors: rock\n",
            "Player 2 wins!\n",
            "Do you want to play a game (yes/no)?yes\n",
            "Player 1- Choose between rock/paper/scissors: rock\n",
            "Draw\n",
            "Do you want to play a game (yes/no)?yes\n",
            "Player 1- Choose between rock/paper/scissors: rock\n",
            "Draw\n"
          ]
        }
      ]
    },
    {
      "cell_type": "markdown",
      "source": [
        "Given an empty list: design a program that adds number to the list given by the user until the user gives the number zero- when that happens, the process terminates, and then you need to print the list in descending order and the number zero cannot be on the list."
      ],
      "metadata": {
        "id": "gbHJPqWq_iqs"
      }
    },
    {
      "cell_type": "markdown",
      "source": [
        "Correct Answer:\n"
      ],
      "metadata": {
        "id": "kUv2F0ZlCVpN"
      }
    },
    {
      "cell_type": "code",
      "source": [
        "lst = []\n",
        "num=float(input('Give a number: '))\n",
        "while num !=0.0:\n",
        "  lst.append(num)\n",
        "  num=float(input('Give a number: '))\n",
        "lst.sort(reverse=True)\n",
        "print(lst)"
      ],
      "metadata": {
        "colab": {
          "base_uri": "https://localhost:8080/"
        },
        "id": "FjixTbnZCXtW",
        "outputId": "5cfd9f1e-99ab-41bc-a5d7-b18a0675fa73"
      },
      "execution_count": null,
      "outputs": [
        {
          "output_type": "stream",
          "name": "stdout",
          "text": [
            "Give a number: 8\n",
            "Give a number: 7\n",
            "Give a number: 6\n",
            "Give a number: 5\n",
            "Give a number: 0\n",
            "[8.0, 7.0, 6.0, 5.0]\n"
          ]
        }
      ]
    },
    {
      "cell_type": "code",
      "source": [
        "lst = []\n",
        "num=float(input('Give a number: '))\n",
        "while num !=0.0:\n",
        "  lst.append(num)\n",
        "  num=float(input('Give a number: '))\n",
        "lst.sort(reverse=True)\n",
        "print(lst)"
      ],
      "metadata": {
        "id": "zK9ecLbXDmkY",
        "outputId": "5c04b042-4260-4a60-9625-817b65754022",
        "colab": {
          "base_uri": "https://localhost:8080/"
        }
      },
      "execution_count": null,
      "outputs": [
        {
          "output_type": "stream",
          "name": "stdout",
          "text": [
            "Give a number: 3.12\n",
            "Give a number: 6.57\n",
            "Give a number: 9.654\n",
            "Give a number: 0\n",
            "[9.654, 6.57, 3.12]\n"
          ]
        }
      ]
    },
    {
      "cell_type": "markdown",
      "source": [
        "Dynamic Dictionary of number: month pairs"
      ],
      "metadata": {
        "id": "F8S3dA4VYkk_"
      }
    },
    {
      "cell_type": "code",
      "source": [
        "months = {}\n",
        "\n",
        "names=['Jan','Feb','Mar','Apr','May','Jun','Jul','Aug','Sep','Oct','Nov','Dec']\n",
        "numbers=[1,2,3,4,5,6,7,8,9,10,11,12]\n",
        "for idx in range(len(numbers)):\n",
        "  months[numbers[idx]]=names[idx]\n",
        "print(months)"
      ],
      "metadata": {
        "colab": {
          "base_uri": "https://localhost:8080/"
        },
        "id": "hdFIeUBFY99X",
        "outputId": "ecdee01b-0c1e-4469-c21f-0d12e84a9daa"
      },
      "execution_count": 1,
      "outputs": [
        {
          "output_type": "stream",
          "name": "stdout",
          "text": [
            "{1: 'Jan', 2: 'Feb', 3: 'Mar', 4: 'Apr', 5: 'May', 6: 'Jun', 7: 'Jul', 8: 'Aug', 9: 'Sep', 10: 'Oct', 11: 'Nov', 12: 'Dec'}\n"
          ]
        }
      ]
    },
    {
      "cell_type": "code",
      "source": [
        "months = {}\n",
        "\n",
        "names=['Jan','Feb','Mar','Apr','May','Jun','Jul','Aug','Sep','Oct','Nov','Dec']\n",
        "numbers=[1,2,3,4,5,6,7,8,9,10,11,12]\n",
        "\n",
        "cntr = 0\n",
        "for num in numbers:\n",
        "  months[num] = names[cntr]\n",
        "  cntr += 1\n",
        "print(months)"
      ],
      "metadata": {
        "colab": {
          "base_uri": "https://localhost:8080/"
        },
        "id": "NR_fY_TBZVWL",
        "outputId": "21f6ea00-b14d-4411-84ce-86453b1070de"
      },
      "execution_count": 2,
      "outputs": [
        {
          "output_type": "stream",
          "name": "stdout",
          "text": [
            "{1: 'Jan', 2: 'Feb', 3: 'Mar', 4: 'Apr', 5: 'May', 6: 'Jun', 7: 'Jul', 8: 'Aug', 9: 'Sep', 10: 'Oct', 11: 'Nov', 12: 'Dec'}\n"
          ]
        }
      ]
    },
    {
      "cell_type": "markdown",
      "source": [
        "dynamic dictionary: distinct key:value pairs"
      ],
      "metadata": {
        "id": "WvdS62ViZmXv"
      }
    },
    {
      "cell_type": "code",
      "source": [
        "names = {}\n",
        "\n",
        "while len(names)<5:\n",
        "  key= input(\"please provide a name: \")\n",
        "  if key not in names:\n",
        "    names[key] = 1\n",
        "  else:\n",
        "    names[key] += 1\n",
        "print(names)"
      ],
      "metadata": {
        "colab": {
          "base_uri": "https://localhost:8080/"
        },
        "id": "VuoMg2njZzgX",
        "outputId": "a5c72eb6-96a3-4ca2-9215-d6b44ae2d3fe"
      },
      "execution_count": null,
      "outputs": [
        {
          "name": "stdout",
          "output_type": "stream",
          "text": [
            "please provide a name: bob\n",
            "please provide a name: bob\n",
            "please provide a name: jane\n",
            "please provide a name: jane\n",
            "please provide a name: jane\n",
            "please provide a name: smith\n",
            "please provide a name: joe\n"
          ]
        }
      ]
    },
    {
      "cell_type": "markdown",
      "source": [
        "Parking garage problem:\n",
        "redoing an earlier problem now that we know how to do functions:"
      ],
      "metadata": {
        "id": "OakY6M0BXHOM"
      }
    },
    {
      "cell_type": "code",
      "source": [
        "def calcFee(hours):\n",
        "  fee=5+2.5*hours\n",
        "  if fee<=10:\n",
        "    fee=10\n",
        "  elif fee>=20:\n",
        "    fee=20\n",
        "  print(f'Fee: ${fee}')\n",
        "\n",
        "print('Program starts...')\n",
        "numHours = int(input('Enter number of hours: '))\n",
        "calcFee(numHours)\n"
      ],
      "metadata": {
        "colab": {
          "base_uri": "https://localhost:8080/"
        },
        "id": "4WBLW87zaGND",
        "outputId": "77a8ba9f-7970-4025-8f54-ea0dd26b2a43"
      },
      "execution_count": null,
      "outputs": [
        {
          "metadata": {
            "tags": null
          },
          "name": "stdout",
          "output_type": "stream",
          "text": [
            "Program starts...\n"
          ]
        }
      ]
    },
    {
      "cell_type": "markdown",
      "source": [
        "In-Class Assignment 3/21:\n",
        "function that takes strings as inputs and reverses them"
      ],
      "metadata": {
        "id": "yWThJrpvaF8h"
      }
    },
    {
      "cell_type": "code",
      "source": [
        "def reverse(s):\n",
        "  if len(s)==1:\n",
        "    return s\n",
        "  else:\n",
        "    return s[-1]+reverse (s[:-1])\n",
        "\n",
        "reverse ('Hello')"
      ],
      "metadata": {
        "colab": {
          "base_uri": "https://localhost:8080/",
          "height": 37
        },
        "id": "voeTLKNNqKtF",
        "outputId": "7d30cc1d-6410-4d40-fdb5-b414bcac913b"
      },
      "execution_count": null,
      "outputs": [
        {
          "output_type": "execute_result",
          "data": {
            "text/plain": [
              "'olleH'"
            ],
            "application/vnd.google.colaboratory.intrinsic+json": {
              "type": "string"
            }
          },
          "metadata": {},
          "execution_count": 1
        }
      ]
    },
    {
      "cell_type": "markdown",
      "source": [
        "In-Class Assignments 3/31 - Making previous functions \"Error Proof\""
      ],
      "metadata": {
        "id": "01IFlLZdDLd8"
      }
    },
    {
      "cell_type": "code",
      "source": [
        "def calcFee(hours):\n",
        "  fee=5+2.5*hours\n",
        "  if fee<=10:\n",
        "    fee=10\n",
        "  elif fee>=20:\n",
        "    fee=20\n",
        "  print(f'Fee: ${fee}')\n",
        "\n",
        "def main():\n",
        "  try:\n",
        "    numHours=int(input('Enter number of hours: '))\n",
        "    calcFee(numHours)\n",
        "  except ValueError:\n",
        "    print('Cannot cast to int().')\n",
        "  except:\n",
        "    print('Unknown error...')\n",
        "if __name__==\"__main__\":\n",
        "  main()"
      ],
      "metadata": {
        "colab": {
          "base_uri": "https://localhost:8080/"
        },
        "id": "MLA__-rBDO_H",
        "outputId": "04c0d76e-78d4-4591-f29a-29ddbf80c405"
      },
      "execution_count": null,
      "outputs": [
        {
          "output_type": "stream",
          "name": "stdout",
          "text": [
            "Enter number of hours: 3.2\n",
            "Cannot cast to int().\n"
          ]
        }
      ]
    },
    {
      "cell_type": "code",
      "source": [
        "def getValues(n):\n",
        "  L = []\n",
        "  for i in range(n):\n",
        "    weight = float(input(\"Enter weight: \"))\n",
        "    L.append(weight)\n",
        "  return L\n",
        "\n",
        "def calcAverage(alist):\n",
        "  try:\n",
        "   print(sum(alist[2:])/len(alist[2:]))\n",
        "  except: ZeroDivisionError\n",
        "  print(f'List{alist} is empty!')\n",
        "\n",
        "\n",
        "def main():\n",
        "  try:\n",
        "    n=int(input(\"Enter size of list: \"))\n",
        "    alist=getValues(n)\n",
        "    calcAverage(alist)\n",
        "  except ValueError:\n",
        "    print('Cannot cast to int().')\n",
        "  except:\n",
        "    print('Invalid input')\n",
        "\n",
        "\n",
        "if __name__ == \"__main__\":\n",
        "  main()"
      ],
      "metadata": {
        "colab": {
          "base_uri": "https://localhost:8080/"
        },
        "id": "mR13L7frGkYW",
        "outputId": "4ce687a9-a42e-4099-d244-80659272e893"
      },
      "execution_count": null,
      "outputs": [
        {
          "output_type": "stream",
          "name": "stdout",
          "text": [
            "Enter size of list: 0\n",
            "List[] is empty!\n"
          ]
        }
      ]
    },
    {
      "cell_type": "markdown",
      "source": [
        "In-Class Assignment 4/7 and 4/9: Defining class and its methods\n",
        "Use the class keyword to define the greeting class\n",
        "add a named parameter to display the method, enhance the display method, and then test the enhanced class -SOMETHING LIKE THIS FOR THE CODING PORTION OF THE FINAL!!!!!"
      ],
      "metadata": {
        "id": "scjLm0jfJR1S"
      }
    },
    {
      "cell_type": "code",
      "source": [
        "class Greeting:\n",
        "  def __init__(self,first,last):\n",
        "    self.first= first\n",
        "    self.last= last\n",
        "  def display(self):\n",
        "    print(f'Hi {self.first} {self.last}')\n",
        "  def display (self, formal= False):\n",
        "    if formal is True:\n",
        "      print(f'Hi {self.first} {self.last}')\n",
        "    else:\n",
        "      print(f'Hi {self.first}')\n",
        "  def __str__(self):\n",
        "    return f'{self.first} {self.last}'"
      ],
      "metadata": {
        "id": "yfZqxR2oJdZ2"
      },
      "execution_count": null,
      "outputs": []
    },
    {
      "cell_type": "code",
      "source": [
        "greeting=Greeting('Donald','Becker')\n",
        "greeting.display()"
      ],
      "metadata": {
        "colab": {
          "base_uri": "https://localhost:8080/"
        },
        "id": "QWinPNZxK1aP",
        "outputId": "33dc6408-2adb-4253-c211-383efdd8a0ef"
      },
      "execution_count": null,
      "outputs": [
        {
          "output_type": "stream",
          "name": "stdout",
          "text": [
            "Hi Donald\n"
          ]
        }
      ]
    },
    {
      "cell_type": "code",
      "source": [
        "greeting=Greeting('Donald','Becker')\n",
        "greeting.display(True)"
      ],
      "metadata": {
        "colab": {
          "base_uri": "https://localhost:8080/"
        },
        "id": "zfTMrs8DYBE1",
        "outputId": "026621ce-8d12-470f-d43e-827d701860ce"
      },
      "execution_count": null,
      "outputs": [
        {
          "output_type": "stream",
          "name": "stdout",
          "text": [
            "Hi Donald Becker\n"
          ]
        }
      ]
    },
    {
      "cell_type": "code",
      "source": [
        "greeting=Greeting('Donald','Becker')\n",
        "greeting.display(False)"
      ],
      "metadata": {
        "colab": {
          "base_uri": "https://localhost:8080/"
        },
        "id": "WuA9xA9rZ66o",
        "outputId": "f1c7a140-1b58-44e9-d809-763528f1d1e5"
      },
      "execution_count": null,
      "outputs": [
        {
          "output_type": "stream",
          "name": "stdout",
          "text": [
            "Hi Donald\n"
          ]
        }
      ]
    },
    {
      "cell_type": "code",
      "source": [
        "greeting2=Greeting('John','Doe')\n",
        "print(greeting2)"
      ],
      "metadata": {
        "id": "uC84QOIEdY0n",
        "outputId": "cbc8a231-3eff-4a7e-c9c9-5ac35ac49102",
        "colab": {
          "base_uri": "https://localhost:8080/"
        }
      },
      "execution_count": null,
      "outputs": [
        {
          "output_type": "stream",
          "name": "stdout",
          "text": [
            "John Doe\n"
          ]
        }
      ]
    },
    {
      "cell_type": "markdown",
      "source": [
        "In-Class Assignment 4/11"
      ],
      "metadata": {
        "id": "2U2zQLGwrR8L"
      }
    },
    {
      "cell_type": "code",
      "source": [
        "class Student:\n",
        "  def __init__(self,name, number):\n",
        "    self.name = name\n",
        "    self.number = number\n",
        "    self.courses = []\n",
        "  def __str__(self):\n",
        "      return f'{self.name} {self.number}'\n",
        "\n",
        "  def enroll(self,course):\n",
        "    if course in self.courses:\n",
        "      print(f'You have already enrolled in {course}')\n",
        "    else:\n",
        "      self.courses.append(course)\n",
        "  def get_courses(self):\n",
        "    return self.courses\n",
        "\n",
        "\n",
        "\n"
      ],
      "metadata": {
        "id": "Ba5xmwKTrUHQ"
      },
      "execution_count": null,
      "outputs": []
    },
    {
      "cell_type": "code",
      "source": [
        "s1= Student('Bob',100)\n",
        "s2= Student('Alice',101)"
      ],
      "metadata": {
        "id": "ypNFuoArrt3t"
      },
      "execution_count": null,
      "outputs": []
    },
    {
      "cell_type": "code",
      "source": [
        "print(s1.name, s2.name)"
      ],
      "metadata": {
        "colab": {
          "base_uri": "https://localhost:8080/"
        },
        "id": "p2WyE10lsBno",
        "outputId": "bf6347e1-fcbc-4b7a-e251-5ede157cdf98"
      },
      "execution_count": null,
      "outputs": [
        {
          "output_type": "stream",
          "name": "stdout",
          "text": [
            "Bob Alice\n"
          ]
        }
      ]
    },
    {
      "cell_type": "code",
      "source": [
        "s1.enroll('BTE320')"
      ],
      "metadata": {
        "colab": {
          "base_uri": "https://localhost:8080/"
        },
        "id": "S8dQrWIos7po",
        "outputId": "3c318bee-748d-46ee-ea45-af7bc9b966c2"
      },
      "execution_count": null,
      "outputs": [
        {
          "output_type": "stream",
          "name": "stdout",
          "text": [
            "You have already enrolled in BTE320\n"
          ]
        }
      ]
    },
    {
      "cell_type": "code",
      "source": [
        "s1.courses"
      ],
      "metadata": {
        "colab": {
          "base_uri": "https://localhost:8080/"
        },
        "id": "hOht08DjwqbC",
        "outputId": "1fa8558f-4c29-4bbb-d5fa-d98432298820"
      },
      "execution_count": null,
      "outputs": [
        {
          "output_type": "execute_result",
          "data": {
            "text/plain": [
              "['BTE320']"
            ]
          },
          "metadata": {},
          "execution_count": 30
        }
      ]
    },
    {
      "cell_type": "code",
      "source": [
        "s1.get_courses()"
      ],
      "metadata": {
        "colab": {
          "base_uri": "https://localhost:8080/"
        },
        "id": "Rk2pdDhOw3p0",
        "outputId": "6a95d20f-cbe7-4c15-9622-2571bb583edf"
      },
      "execution_count": null,
      "outputs": [
        {
          "output_type": "execute_result",
          "data": {
            "text/plain": [
              "['BTE320']"
            ]
          },
          "metadata": {},
          "execution_count": 32
        }
      ]
    },
    {
      "cell_type": "markdown",
      "source": [
        "In-Class Assignment 4.14\n",
        "define a class point- represents a class coordinate and calculate the distance between the points\n"
      ],
      "metadata": {
        "id": "V69XzBBjNAYa"
      }
    },
    {
      "cell_type": "code",
      "source": [
        "import math"
      ],
      "metadata": {
        "id": "M39voyuuNO5e"
      },
      "execution_count": null,
      "outputs": []
    },
    {
      "cell_type": "code",
      "source": [
        "class Point:\n",
        "  def __init__(self, x, y):\n",
        "    self.x = x\n",
        "    self.y = y\n",
        "\n",
        "  def distance(self,b):\n",
        "    dx=(self.x-b.x)**2\n",
        "    dy=(self.y-b.y)**2\n",
        "    dist=math.sqrt(dx+dy)\n",
        "    return (dist)\n",
        "\n",
        "p1=Point(1,7)\n",
        "p2=Point(4,3)\n",
        "p1.distance(p2)"
      ],
      "metadata": {
        "colab": {
          "base_uri": "https://localhost:8080/"
        },
        "id": "KsLyL4ALNbPE",
        "outputId": "590a0c6b-8f27-43ca-c96b-63d8fa123ebe"
      },
      "execution_count": null,
      "outputs": [
        {
          "output_type": "execute_result",
          "data": {
            "text/plain": [
              "5.0"
            ]
          },
          "metadata": {},
          "execution_count": 15
        }
      ]
    },
    {
      "cell_type": "code",
      "source": [
        "class Rectangle:\n",
        "  def __init__(self,):\n",
        "    self.c1= Point(0,0)\n",
        "    self.c2= Point( 0,2)\n",
        "    self.c3= Point(2,0)\n",
        "    self.c4= Point(2,2)\n",
        "    self.width= self.calculate_width()\n",
        "    self.length = self.calculate_length()\n",
        "\n",
        "  def calculate_width(self):\n",
        "    return self.c1.distance(self.c2)\n",
        "\n",
        "  def calculate_length(self):\n",
        "    return self.c3.distance(self.c4)\n",
        "\n",
        "  def area(self):\n",
        "    return self.width*self.length\n",
        "\n",
        "\n",
        "square=Rectangle()\n",
        "square.area()\n",
        "\n"
      ],
      "metadata": {
        "id": "FLhrpoE4PxlH",
        "colab": {
          "base_uri": "https://localhost:8080/"
        },
        "outputId": "e63ddac2-f618-45c3-9750-4fe1a180172e"
      },
      "execution_count": null,
      "outputs": [
        {
          "output_type": "execute_result",
          "data": {
            "text/plain": [
              "4.0"
            ]
          },
          "metadata": {},
          "execution_count": 22
        }
      ]
    }
  ]
}