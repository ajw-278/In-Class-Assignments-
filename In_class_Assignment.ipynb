{
  "nbformat": 4,
  "nbformat_minor": 0,
  "metadata": {
    "colab": {
      "provenance": [],
      "authorship_tag": "ABX9TyNHqGKgEaJql86sd2egFdkt",
      "include_colab_link": true
    },
    "kernelspec": {
      "name": "python3",
      "display_name": "Python 3"
    },
    "language_info": {
      "name": "python"
    }
  },
  "cells": [
    {
      "cell_type": "markdown",
      "metadata": {
        "id": "view-in-github",
        "colab_type": "text"
      },
      "source": [
        "<a href=\"https://colab.research.google.com/github/ajw-278/In-Class-Assignments-/blob/main/In_class_Assignment.ipynb\" target=\"_parent\"><img src=\"https://colab.research.google.com/assets/colab-badge.svg\" alt=\"Open In Colab\"/></a>"
      ]
    },
    {
      "cell_type": "code",
      "execution_count": null,
      "metadata": {
        "id": "LRgz8w6_Z5P8"
      },
      "outputs": [],
      "source": []
    },
    {
      "cell_type": "markdown",
      "source": [
        "Write a program that takes two inputs: value of pi, height and radius. Program needs to calculate the surface area of a cylinder and display the result. You can use function print, but want to use function input for the inputs."
      ],
      "metadata": {
        "id": "Kx13T06kZ-fi"
      }
    },
    {
      "cell_type": "code",
      "source": [
        "pi=3.14\n",
        "pi=3.14\n",
        "r=4\n",
        "height=10\n",
        "surface_area=2*pi*r**2+2*pi*r*height\n",
        "print('Surface Area=',surface_area)"
      ],
      "metadata": {
        "colab": {
          "base_uri": "https://localhost:8080/"
        },
        "id": "dFg8vv_zacnz",
        "outputId": "debf582a-b926-4d58-8a53-34f86346dced"
      },
      "execution_count": null,
      "outputs": [
        {
          "output_type": "stream",
          "name": "stdout",
          "text": [
            "Surface Area= 351.68\n"
          ]
        }
      ]
    },
    {
      "cell_type": "code",
      "source": [
        "pi=input('Please provide value of pi')\n",
        "radius=input('Please provide value of radius')\n",
        "height=input('Please provide value of height')\n",
        "surface_area=float(pi)\n",
        "surface_area=int(radius)\n",
        "surface_area=int(height)\n",
        "surface_area=2*pi*radius**2+2*pi*radius*height\n",
        "print(surface_area)"
      ],
      "metadata": {
        "colab": {
          "base_uri": "https://localhost:8080/",
          "height": 241
        },
        "id": "tjjCmf9WbSQt",
        "outputId": "2b5fa039-344a-497c-cb5c-dd4193dc122d"
      },
      "execution_count": null,
      "outputs": [
        {
          "name": "stdout",
          "output_type": "stream",
          "text": [
            "Please provide value of pi3.14\n",
            "Please provide value of radius4\n",
            "Please provide value of height10\n"
          ]
        },
        {
          "output_type": "error",
          "ename": "TypeError",
          "evalue": "unsupported operand type(s) for ** or pow(): 'str' and 'int'",
          "traceback": [
            "\u001b[0;31m---------------------------------------------------------------------------\u001b[0m",
            "\u001b[0;31mTypeError\u001b[0m                                 Traceback (most recent call last)",
            "\u001b[0;32m<ipython-input-11-7bba3e9fc6d8>\u001b[0m in \u001b[0;36m<cell line: 0>\u001b[0;34m()\u001b[0m\n\u001b[1;32m      5\u001b[0m \u001b[0msurface_area\u001b[0m\u001b[0;34m=\u001b[0m\u001b[0mint\u001b[0m\u001b[0;34m(\u001b[0m\u001b[0mradius\u001b[0m\u001b[0;34m)\u001b[0m\u001b[0;34m\u001b[0m\u001b[0;34m\u001b[0m\u001b[0m\n\u001b[1;32m      6\u001b[0m \u001b[0msurface_area\u001b[0m\u001b[0;34m=\u001b[0m\u001b[0mint\u001b[0m\u001b[0;34m(\u001b[0m\u001b[0mheight\u001b[0m\u001b[0;34m)\u001b[0m\u001b[0;34m\u001b[0m\u001b[0;34m\u001b[0m\u001b[0m\n\u001b[0;32m----> 7\u001b[0;31m \u001b[0msurface_area\u001b[0m\u001b[0;34m=\u001b[0m\u001b[0;36m2\u001b[0m\u001b[0;34m*\u001b[0m\u001b[0mpi\u001b[0m\u001b[0;34m*\u001b[0m\u001b[0mradius\u001b[0m\u001b[0;34m**\u001b[0m\u001b[0;36m2\u001b[0m\u001b[0;34m+\u001b[0m\u001b[0;36m2\u001b[0m\u001b[0;34m*\u001b[0m\u001b[0mpi\u001b[0m\u001b[0;34m*\u001b[0m\u001b[0mradius\u001b[0m\u001b[0;34m*\u001b[0m\u001b[0mheight\u001b[0m\u001b[0;34m\u001b[0m\u001b[0;34m\u001b[0m\u001b[0m\n\u001b[0m\u001b[1;32m      8\u001b[0m \u001b[0mprint\u001b[0m\u001b[0;34m(\u001b[0m\u001b[0msurface_area\u001b[0m\u001b[0;34m)\u001b[0m\u001b[0;34m\u001b[0m\u001b[0;34m\u001b[0m\u001b[0m\n",
            "\u001b[0;31mTypeError\u001b[0m: unsupported operand type(s) for ** or pow(): 'str' and 'int'"
          ]
        }
      ]
    },
    {
      "cell_type": "markdown",
      "source": [
        "Correct Answer:"
      ],
      "metadata": {
        "id": "FG4JiNrvcUWx"
      }
    },
    {
      "cell_type": "code",
      "source": [
        "pi=3.14\n",
        "radius=float(input('Please provide value of radius'))\n",
        "height=float(input('Please provide value of height'))\n",
        "surface_area=2*pi*radius**2+2*pi*radius*height\n",
        "print(f'Area of cylinder = {surface_area}sq.ft')\n",
        "\n"
      ],
      "metadata": {
        "colab": {
          "base_uri": "https://localhost:8080/"
        },
        "id": "jaX3fxkBcd63",
        "outputId": "b0733a51-053e-43da-e650-f69810f73b48"
      },
      "execution_count": 1,
      "outputs": [
        {
          "output_type": "stream",
          "name": "stdout",
          "text": [
            "Please provide value of radius5\n",
            "Please provide value of height10\n",
            "Area of cylinder = 471.0sq.ft\n"
          ]
        }
      ]
    },
    {
      "cell_type": "markdown",
      "source": [
        "^ Need to put float around the input because 3.14 is a float number\n"
      ],
      "metadata": {
        "id": "IroiIndpd-Xp"
      }
    }
  ]
}